{
 "cells": [
  {
   "cell_type": "code",
   "execution_count": 21,
   "id": "158c0efb",
   "metadata": {
    "scrolled": false
   },
   "outputs": [
    {
     "name": "stdout",
     "output_type": "stream",
     "text": [
      "filename: .txtawd\n",
      "awdawd\n"
     ]
    }
   ],
   "source": [
    "#Exercicio 1\n",
    "filename = input(\"filename: \")\n",
    "with open(filename, \"w\") as f:\n",
    "  f.write(input())"
   ]
  },
  {
   "cell_type": "code",
   "execution_count": 1,
   "id": "5e003522",
   "metadata": {
    "scrolled": true
   },
   "outputs": [
    {
     "name": "stdout",
     "output_type": "stream",
     "text": [
      "(1, 2, 3, 15, 16, 17)\n",
      "(11, 12, 13, 11, 12, 13)\n",
      "2\n",
      "(6, 2)\n"
     ]
    }
   ],
   "source": [
    "#Exercicio 2\n",
    "import pandas\n",
    "#csv1\n",
    "list_1 = (1,2,3) \n",
    "list_2 = (5,6,7)\n",
    "df = pandas.DataFrame(data={\"coi\": list_1, \"ror\": list_2})\n",
    "df.to_csv(\"./1novo.csv\", sep=';',index=False)\n",
    "#csv2\n",
    "list_3 = (11,12,13) \n",
    "list_4 = (15,16,17)\n",
    "df = pandas.DataFrame(data={\"cef\": list_3, \"miau\": list_4})\n",
    "df.to_csv(\"./2novo.csv\", sep=';',index=False)\n",
    "\n",
    "import glob\n",
    "#csv-allnovo\n",
    "arquivos = glob.glob(\"./*novo.csv\") \n",
    "df = pandas.concat((pandas.read_csv(f, header = 0) for f in arquivos))\n",
    "df.to_csv(\"output.csv\", sep=';',index=False)\n",
    "\n",
    "res = list_1 + list_4\n",
    "print(res)\n",
    "res1 = list_3 * 2\n",
    "print(res1)\n",
    "\n",
    "print(df.ndim)\n",
    "print(df.shape)"
   ]
  },
  {
   "cell_type": "code",
   "execution_count": 16,
   "id": "8d947aaf",
   "metadata": {},
   "outputs": [],
   "source": [
    "#Exercicio 3 DataFrame\n",
    "DataFrames são blocos de dados fléxiveis utilizados para coleta e analise dos mesmos. São utilizados tambem nas áreas:\n",
    "# Aprendizado de máquina\n",
    "# Ciência de dados\n",
    "# Estatística computacional\n",
    "# Inteligência artificial\n",
    "# Banco de Dados"
   ]
  },
  {
   "cell_type": "code",
   "execution_count": 88,
   "id": "575dbd75",
   "metadata": {},
   "outputs": [],
   "source": [
    "#Exercicio 4\n",
    "import numpy as np\n",
    "data = np.random.randn(3, 2)\n",
    "np.savetxt(\"rand.csv\", data, delimiter=\";\", fmt=\"%.2f\", header=\"A;B\", comments=\"\")"
   ]
  },
  {
   "cell_type": "code",
   "execution_count": 90,
   "id": "8875801b",
   "metadata": {},
   "outputs": [
    {
     "name": "stdout",
     "output_type": "stream",
     "text": [
      "          0         1         2\n",
      "0  0.579381  0.652705  0.113591\n",
      "1  0.847889  0.437217  0.548010\n",
      "          0         1\n",
      "0  0.084353  0.350817\n",
      "1  0.737567  0.942927\n",
      "2  0.733900  0.441586\n",
      "          0         1\n",
      "0  0.613651  0.868871\n",
      "1  0.796184  0.951711\n"
     ]
    },
    {
     "name": "stderr",
     "output_type": "stream",
     "text": [
      "C:\\Users\\pcrix\\AppData\\Local\\Temp\\ipykernel_7732\\2202757460.py:8: FutureWarning: Calling a ufunc on non-aligned DataFrames (or DataFrame/Series combination). Currently, the indices are ignored and the result takes the index/columns of the first DataFrame. In the future , the DataFrames/Series will be aligned before applying the ufunc.\n",
      "Convert one of the arguments to a NumPy array (eg 'ufunc(df1, np.asarray(df2)') to keep the current behaviour, or align manually (eg 'df1, df2 = df1.align(df2)') before passing to the ufunc to obtain the future behaviour and silence this warning.\n",
      "  res = numpy.matmul(x, y)\n"
     ]
    }
   ],
   "source": [
    "#Exercicio 5\n",
    "import pandas as pd\n",
    "import numpy as np\n",
    "\n",
    "x = pd.DataFrame(np.random.random((2, 3)))\n",
    "y = pd.DataFrame(np.random.random((3, 2)))\n",
    "print(x)\n",
    "print(y)\n",
    "res = numpy.matmul(x, y)\n",
    "print(res)"
   ]
  },
  {
   "cell_type": "code",
   "execution_count": 17,
   "id": "d5df9768",
   "metadata": {},
   "outputs": [
    {
     "name": "stdout",
     "output_type": "stream",
     "text": [
      "           one       two     three      four key\n",
      "0     0.467976 -0.038649 -0.295344 -1.824726   L\n",
      "1    -0.358893  1.404453  0.704965 -0.200638   B\n",
      "2    -0.501840  0.659254 -0.421691 -0.057688   G\n",
      "3     0.204886  1.074134  1.388361 -0.982404   R\n",
      "4     0.354628 -0.133116  0.283763 -0.837063   Q\n",
      "...        ...       ...       ...       ...  ..\n",
      "1995  2.311896 -0.417070 -1.409599 -0.515821   L\n",
      "1996 -0.479893 -0.650419  0.745152 -0.646038   J\n",
      "1997  0.523331  0.787112  0.486066  1.093156   V\n",
      "1998 -0.362559  0.598894 -1.843201  0.887292   W\n",
      "1999 -0.096376 -1.012999 -0.657431 -0.573315   D\n",
      "\n",
      "[2000 rows x 5 columns]\n",
      "\n",
      "\n",
      "           one       two     three      four key\n",
      "0     0.467976 -0.038649 -0.295344 -1.824726   1\n",
      "1    -0.358893  1.404453  0.704965 -0.200638   H\n",
      "2    -0.501840  0.659254 -0.421691 -0.057688   F\n",
      "3     0.204886  1.074134  1.388361 -0.982404   L\n",
      "4     0.354628 -0.133116  0.283763 -0.837063   E\n",
      "...        ...       ...       ...       ...  ..\n",
      "1995  2.311896 -0.417070 -1.409599 -0.515821   W\n",
      "1996 -0.479893 -0.650419  0.745152 -0.646038   E\n",
      "1997  0.523331  0.787112  0.486066  1.093156   Q\n",
      "1998 -0.362559  0.598894 -1.843201  0.887292   A\n",
      "1999 -0.096376 -1.012999 -0.657431 -0.573315   M\n",
      "\n",
      "[2000 rows x 5 columns]\n"
     ]
    }
   ],
   "source": [
    "#Exercicio 6 \n",
    "import pandas as pd\n",
    "\n",
    "# read DataFrame\n",
    "data = pd.read_csv(\"ex6.csv\")\n",
    "\n",
    "# number of csv files along with the row\n",
    "k = 5\n",
    "size = 2000\n",
    "\n",
    "for i in range(k):\n",
    "    df = data[size*i:size*(i+1)]\n",
    "\n",
    "    df.to_csv(f'o{i+1}.csv', index=False)\n",
    "\n",
    "file1 = pd.read_csv(\"o1.csv\")\n",
    "print(file1)\n",
    "print(\"\\n\")\n",
    "file2 = pd.read_csv(\"o2.csv\")\n",
    "print(file2)"
   ]
  },
  {
   "cell_type": "code",
   "execution_count": 102,
   "id": "13f8f2db",
   "metadata": {},
   "outputs": [
    {
     "name": "stdout",
     "output_type": "stream",
     "text": [
      "Counter({'de': 17, 'e': 7, 'dados': 6, 'o': 4, 'para': 3, 'a': 3, 'Ciência': 2, 'data': 2, 'é': 2, 'análise': 2, 'ou': 2, 'que': 2, 'insights': 2, 'tomadas': 2, 'machine': 2, 'áreas': 2, 'como': 2, 'como:': 2, 'A': 2, 'ciência': 2, 'em': 2, '(em': 1, 'inglês:': 1, 'science': 1, ')': 1, 'uma': 1, 'área': 1, 'interdisciplinar': 1, 'voltada': 1, 'estudo': 1, 'dados,': 1, 'estruturados': 1, 'não,': 1, 'visa': 1, 'extração': 1, 'conhecimento': 1, 'possíveis': 1, 'decisão,': 1, 'maneira': 1, 'similar': 1, 'à': 1, 'mineração': 1, 'dados.': 1, 'alia': 1, 'big': 1, 'learning,': 1, 'além': 1, 'técnicas': 1, 'outras': 1, 'interdisciplinares': 1, 'estatística,': 1, 'economia,': 1, 'engenharia': 1, 'outros': 1, 'subcampos': 1, 'da': 1, 'computação': 1, 'banco': 1, 'agrupamentos': 1, '(cluster': 1, 'analysis).': 1, 'um': 1, 'campo': 1, 'já': 1, 'existe': 1, 'há': 1, '30': 1, 'anos,': 1, 'porém': 1, 'ganhou': 1, 'mais': 1, 'destaque': 1, 'nos': 1, 'últimos': 1, 'anos': 1, 'devido': 1, 'alguns': 1, 'fatores': 1, 'surgimento': 1, 'popularização': 1, 'do': 1, 'Big': 1, 'Data': 1, 'desenvolvimento': 1, 'learning.': 1, 'pode,': 1, 'por': 1, 'exemplo,': 1, 'transformar': 1, 'essa': 1, 'grande': 1, 'quantidade': 1, 'brutos': 1, 'negócios,': 1, 'com': 1, 'isso,': 1, 'auxiliar': 1, 'empresas': 1, 'decisões': 1, 'atingir': 1, 'melhores': 1, 'resultados.': 1, 'Fonte:': 1, 'https://pt.wikipedia.org/wiki/Ci%C3%AAncia_de_dados': 1})\n"
     ]
    }
   ],
   "source": [
    "#Exercicio 7\n",
    "from collections import Counter\n",
    "\n",
    "print(Counter(open('ciência_de_dados.txt').read().split()))"
   ]
  },
  {
   "cell_type": "code",
   "execution_count": null,
   "id": "25b24b88",
   "metadata": {},
   "outputs": [],
   "source": [
    "#Exercicio 8 JSON Data\n",
    "JSON está para JavaScript Object Notation, é uma versão leve de arquivo de armazenamento e transporte de dados, \n",
    "frequentemente utilizado em: \n",
    "# requisições online servidor-navegador\n",
    "# requisições online servidor-servidor\n",
    "# opção mais leve ao XML\n",
    "# Dispositivos conectados na rede net\n",
    "# alguns logs de aplicativos"
   ]
  }
 ],
 "metadata": {
  "kernelspec": {
   "display_name": "Python 3 (ipykernel)",
   "language": "python",
   "name": "python3"
  },
  "language_info": {
   "codemirror_mode": {
    "name": "ipython",
    "version": 3
   },
   "file_extension": ".py",
   "mimetype": "text/x-python",
   "name": "python",
   "nbconvert_exporter": "python",
   "pygments_lexer": "ipython3",
   "version": "3.9.15"
  }
 },
 "nbformat": 4,
 "nbformat_minor": 5
}
