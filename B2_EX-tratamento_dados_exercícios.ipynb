{
 "cells": [
  {
   "cell_type": "code",
   "execution_count": 2,
   "metadata": {},
   "outputs": [],
   "source": [
    "import pandas as pd\n",
    "import numpy as np"
   ]
  },
  {
   "cell_type": "markdown",
   "metadata": {},
   "source": [
    "# 1) Crie um conjunto de dados com dois níveis hierárquicos de linhas e  colunas."
   ]
  },
  {
   "cell_type": "code",
   "execution_count": 5,
   "metadata": {},
   "outputs": [
    {
     "name": "stdout",
     "output_type": "stream",
     "text": [
      "                   A         B         C         D\n",
      "2000-01-01 -0.463963 -0.968954  0.415451  0.850133\n",
      "2000-01-02  1.257656 -0.501952  0.432452  1.175130\n",
      "2000-01-03  0.197356  0.399843  0.010178  0.055517\n",
      "2000-01-04 -1.323999  1.662013  0.408586 -1.080910\n",
      "2000-01-05  1.041372 -0.485341  0.945741  1.750746\n",
      "2000-01-06  0.893439  0.263968  0.529491  0.385349\n",
      "2000-01-07 -0.085133  0.657541  0.922529 -0.477990\n",
      "2000-01-08 -0.847292 -0.738371 -0.081029  1.866670\n"
     ]
    }
   ],
   "source": [
    "import pandas as pd\n",
    "import numpy as np\n",
    "\n",
    "dates = pd.date_range('1/1/2000', periods=8)\n",
    "\n",
    "df = pd.DataFrame(np.random.randn(8, 4),\n",
    "                  index=dates, columns=['A', 'B', 'C', 'D'])\n",
    "print(df)\n",
    "df.to_csv('./tabelaB2.csv', sep=';')"
   ]
  },
  {
   "cell_type": "markdown",
   "metadata": {},
   "source": [
    "# 2) A partir dos conjunto de dados realize operações de soma, média, mínimo e máximo considerando os níveis de hierarquia das linhas."
   ]
  },
  {
   "cell_type": "code",
   "execution_count": 50,
   "metadata": {},
   "outputs": [
    {
     "name": "stdout",
     "output_type": "stream",
     "text": [
      "0   -1.432918\n",
      "1    0.755703\n",
      "2    0.597198\n",
      "3    0.338014\n",
      "4    0.556031\n",
      "5    1.157407\n",
      "6    0.572409\n",
      "7   -1.585663\n",
      "dtype: float64\n",
      "0   -0.716459\n",
      "1    0.377852\n",
      "2    0.298599\n",
      "3    0.169007\n",
      "4    0.278016\n",
      "5    0.578703\n",
      "6    0.286204\n",
      "7   -0.792832\n",
      "dtype: float64\n",
      "0   -0.463963\n",
      "1    1.257656\n",
      "2    0.399843\n",
      "3    1.662013\n",
      "4    1.041372\n",
      "5    0.893439\n",
      "6    0.657541\n",
      "7   -0.738371\n",
      "dtype: float64\n",
      "-1.3239988821870867\n"
     ]
    }
   ],
   "source": [
    "import pandas as pd\n",
    "import numpy as np\n",
    "\n",
    "df1= pd.read_csv(\"tabelaB2.csv\", sep=';' )['A']\n",
    "df2 = pd.read_csv(\"tabelaB2.csv\", sep=';' )['B']\n",
    "soma = df1 + df2\n",
    "print(soma)\n",
    "\n",
    "media = soma/2\n",
    "print(media)\n",
    "\n",
    "numax= np.maximum(df1, df2)\n",
    "print(numax)\n",
    "\n",
    "print(min(df1))"
   ]
  },
  {
   "cell_type": "markdown",
   "metadata": {},
   "source": [
    "# 3) Agora realize uma agregação (soma, por exemplo) considerando uma das colunas, ou seja, axis=1."
   ]
  },
  {
   "cell_type": "code",
   "execution_count": 7,
   "metadata": {},
   "outputs": [
    {
     "name": "stdout",
     "output_type": "stream",
     "text": [
      "   Unnamed: 0         A         B         C         D\n",
      "0  2000-01-01 -0.463963 -0.968954  0.415451  0.850133\n",
      "1  2000-01-02  1.257656 -0.501952  0.432452  1.175130\n",
      "2  2000-01-03  0.197356  0.399843  0.010178  0.055517\n",
      "3  2000-01-04 -1.323999  1.662013  0.408586 -1.080910\n",
      "4  2000-01-05  1.041372 -0.485341  0.945741  1.750746\n",
      "5  2000-01-06  0.893439  0.263968  0.529491  0.385349\n",
      "6  2000-01-07 -0.085133  0.657541  0.922529 -0.477990\n",
      "7  2000-01-08 -0.847292 -0.738371 -0.081029  1.866670\n"
     ]
    }
   ],
   "source": [
    "import pandas as pd\n",
    "import numpy as np\n",
    "\n",
    "df= pd.read_csv(\"tabelaB2.csv\", sep=';' )\n",
    "\n",
    "df.groupby(level=0, axis=1).sum()\n",
    "\n",
    "print(df)"
   ]
  },
  {
   "cell_type": "markdown",
   "metadata": {},
   "source": [
    "# 4) Crie dois conjuntos de dados (muitos-para-um) e aplique uma junção interna e uma junção externa."
   ]
  },
  {
   "cell_type": "code",
   "execution_count": 26,
   "metadata": {},
   "outputs": [
    {
     "name": "stdout",
     "output_type": "stream",
     "text": [
      "  Chave  Coluna 1\n",
      "0     b         0\n",
      "1     b         1\n",
      "2     a         2\n",
      "3     c         3\n",
      "4     a         4\n",
      "5     b         5\n",
      "  Chave  Coluna 2\n",
      "0     a         0\n",
      "1     q         1\n",
      "2     e         2\n",
      "3     e         3\n",
      "4     d         4\n"
     ]
    },
    {
     "data": {
      "text/html": [
       "<div>\n",
       "<style scoped>\n",
       "    .dataframe tbody tr th:only-of-type {\n",
       "        vertical-align: middle;\n",
       "    }\n",
       "\n",
       "    .dataframe tbody tr th {\n",
       "        vertical-align: top;\n",
       "    }\n",
       "\n",
       "    .dataframe thead th {\n",
       "        text-align: right;\n",
       "    }\n",
       "</style>\n",
       "<table border=\"1\" class=\"dataframe\">\n",
       "  <thead>\n",
       "    <tr style=\"text-align: right;\">\n",
       "      <th></th>\n",
       "      <th>Chave</th>\n",
       "      <th>Coluna 1</th>\n",
       "      <th>Coluna 2</th>\n",
       "    </tr>\n",
       "  </thead>\n",
       "  <tbody>\n",
       "    <tr>\n",
       "      <th>0</th>\n",
       "      <td>b</td>\n",
       "      <td>0.0</td>\n",
       "      <td>NaN</td>\n",
       "    </tr>\n",
       "    <tr>\n",
       "      <th>1</th>\n",
       "      <td>b</td>\n",
       "      <td>1.0</td>\n",
       "      <td>NaN</td>\n",
       "    </tr>\n",
       "    <tr>\n",
       "      <th>2</th>\n",
       "      <td>b</td>\n",
       "      <td>5.0</td>\n",
       "      <td>NaN</td>\n",
       "    </tr>\n",
       "    <tr>\n",
       "      <th>3</th>\n",
       "      <td>a</td>\n",
       "      <td>2.0</td>\n",
       "      <td>0.0</td>\n",
       "    </tr>\n",
       "    <tr>\n",
       "      <th>4</th>\n",
       "      <td>a</td>\n",
       "      <td>4.0</td>\n",
       "      <td>0.0</td>\n",
       "    </tr>\n",
       "    <tr>\n",
       "      <th>5</th>\n",
       "      <td>c</td>\n",
       "      <td>3.0</td>\n",
       "      <td>NaN</td>\n",
       "    </tr>\n",
       "    <tr>\n",
       "      <th>6</th>\n",
       "      <td>q</td>\n",
       "      <td>NaN</td>\n",
       "      <td>1.0</td>\n",
       "    </tr>\n",
       "    <tr>\n",
       "      <th>7</th>\n",
       "      <td>e</td>\n",
       "      <td>NaN</td>\n",
       "      <td>2.0</td>\n",
       "    </tr>\n",
       "    <tr>\n",
       "      <th>8</th>\n",
       "      <td>e</td>\n",
       "      <td>NaN</td>\n",
       "      <td>3.0</td>\n",
       "    </tr>\n",
       "    <tr>\n",
       "      <th>9</th>\n",
       "      <td>d</td>\n",
       "      <td>NaN</td>\n",
       "      <td>4.0</td>\n",
       "    </tr>\n",
       "  </tbody>\n",
       "</table>\n",
       "</div>"
      ],
      "text/plain": [
       "  Chave  Coluna 1  Coluna 2\n",
       "0     b       0.0       NaN\n",
       "1     b       1.0       NaN\n",
       "2     b       5.0       NaN\n",
       "3     a       2.0       0.0\n",
       "4     a       4.0       0.0\n",
       "5     c       3.0       NaN\n",
       "6     q       NaN       1.0\n",
       "7     e       NaN       2.0\n",
       "8     e       NaN       3.0\n",
       "9     d       NaN       4.0"
      ]
     },
     "execution_count": 26,
     "metadata": {},
     "output_type": "execute_result"
    }
   ],
   "source": [
    "df1 = pd.DataFrame({'Chave': ['b', 'b', 'a', 'c', 'a', 'b'],\n",
    "                    'Coluna 1': range(6)})\n",
    "df2 = pd.DataFrame({'Chave': ['a', 'q', 'e', 'e', 'd'],\n",
    "                    'Coluna 2': range(5)})\n",
    "print(df1)\n",
    "print(df2)\n",
    "\n",
    "pd.merge(df1, df2, how='inner')\n",
    "pd.merge(df1, df2, how='outer')"
   ]
  },
  {
   "cell_type": "markdown",
   "metadata": {},
   "source": [
    "# 5) Localize linhas do conjunto de dados gerado no exercício anterior considerando determinado critério de localização. "
   ]
  },
  {
   "cell_type": "code",
   "execution_count": 50,
   "metadata": {},
   "outputs": [
    {
     "name": "stdout",
     "output_type": "stream",
     "text": [
      "      Chave  Coluna 1  Coluna 2\n",
      "Chave                          \n",
      "b         b       0.0       NaN\n",
      "b         b       1.0       NaN\n",
      "b         b       5.0       NaN\n",
      "a         a       2.0       0.0\n",
      "a         a       4.0       0.0\n",
      "c         c       3.0       NaN\n",
      "q         q       NaN       1.0\n",
      "e         e       NaN       2.0\n",
      "e         e       NaN       3.0\n",
      "d         d       NaN       4.0\n"
     ]
    },
    {
     "data": {
      "text/html": [
       "<div>\n",
       "<style scoped>\n",
       "    .dataframe tbody tr th:only-of-type {\n",
       "        vertical-align: middle;\n",
       "    }\n",
       "\n",
       "    .dataframe tbody tr th {\n",
       "        vertical-align: top;\n",
       "    }\n",
       "\n",
       "    .dataframe thead th {\n",
       "        text-align: right;\n",
       "    }\n",
       "</style>\n",
       "<table border=\"1\" class=\"dataframe\">\n",
       "  <thead>\n",
       "    <tr style=\"text-align: right;\">\n",
       "      <th></th>\n",
       "      <th>Chave</th>\n",
       "      <th>Coluna 1</th>\n",
       "      <th>Coluna 2</th>\n",
       "    </tr>\n",
       "    <tr>\n",
       "      <th>Chave</th>\n",
       "      <th></th>\n",
       "      <th></th>\n",
       "      <th></th>\n",
       "    </tr>\n",
       "  </thead>\n",
       "  <tbody>\n",
       "    <tr>\n",
       "      <th>a</th>\n",
       "      <td>a</td>\n",
       "      <td>2.0</td>\n",
       "      <td>0.0</td>\n",
       "    </tr>\n",
       "    <tr>\n",
       "      <th>a</th>\n",
       "      <td>a</td>\n",
       "      <td>4.0</td>\n",
       "      <td>0.0</td>\n",
       "    </tr>\n",
       "  </tbody>\n",
       "</table>\n",
       "</div>"
      ],
      "text/plain": [
       "      Chave  Coluna 1  Coluna 2\n",
       "Chave                          \n",
       "a         a       2.0       0.0\n",
       "a         a       4.0       0.0"
      ]
     },
     "execution_count": 50,
     "metadata": {},
     "output_type": "execute_result"
    }
   ],
   "source": [
    "df1 = pd.DataFrame({'Chave': ['b', 'b', 'a', 'c', 'a', 'b'],\n",
    "                    'Coluna 1': range(6)})\n",
    "df2 = pd.DataFrame({'Chave': ['a', 'q', 'e', 'e', 'd'],\n",
    "                    'Coluna 2': range(5)})\n",
    "\n",
    "df= pd.merge(df1, df2, how='outer')\n",
    "df.index = df['Chave']\n",
    "print(df)\n",
    "df.loc['a']"
   ]
  },
  {
   "cell_type": "markdown",
   "metadata": {},
   "source": [
    "# 6) Com base no conjunto de dados abaixo realize algumas consultas utilizando o método loc."
   ]
  },
  {
   "cell_type": "code",
   "execution_count": 18,
   "metadata": {},
   "outputs": [
    {
     "name": "stdout",
     "output_type": "stream",
     "text": [
      "           Age  Color    Food  Height  Score State\n",
      "Jane        30   Blue   Steak     165    4.6    NY\n",
      "Nick        20  Green    Lamb     170    8.3    TX\n",
      "Aaron       22    Red   Mango     120    9.0    FL\n",
      "Penelope    40  White   Apple      80    3.3    AL\n",
      "Dean        32   Gray  Cheese     180    1.8    AK\n",
      "Christina   28  Black   Melon     172    9.5    TX\n",
      "John        39    Red   Beans     150    2.2    TX\n"
     ]
    },
    {
     "data": {
      "text/html": [
       "<div>\n",
       "<style scoped>\n",
       "    .dataframe tbody tr th:only-of-type {\n",
       "        vertical-align: middle;\n",
       "    }\n",
       "\n",
       "    .dataframe tbody tr th {\n",
       "        vertical-align: top;\n",
       "    }\n",
       "\n",
       "    .dataframe thead th {\n",
       "        text-align: right;\n",
       "    }\n",
       "</style>\n",
       "<table border=\"1\" class=\"dataframe\">\n",
       "  <thead>\n",
       "    <tr style=\"text-align: right;\">\n",
       "      <th></th>\n",
       "      <th>Score</th>\n",
       "    </tr>\n",
       "  </thead>\n",
       "  <tbody>\n",
       "    <tr>\n",
       "      <th>Nick</th>\n",
       "      <td>8.3</td>\n",
       "    </tr>\n",
       "    <tr>\n",
       "      <th>Dean</th>\n",
       "      <td>1.8</td>\n",
       "    </tr>\n",
       "  </tbody>\n",
       "</table>\n",
       "</div>"
      ],
      "text/plain": [
       "      Score\n",
       "Nick    8.3\n",
       "Dean    1.8"
      ]
     },
     "execution_count": 18,
     "metadata": {},
     "output_type": "execute_result"
    }
   ],
   "source": [
    "import pandas as pd\n",
    "\n",
    "df = pd.DataFrame({'Age': [30, 20, 22, 40, 32, 28, 39],\n",
    "                   'Color': ['Blue', 'Green', 'Red', 'White', 'Gray', 'Black',\n",
    "                             'Red'],\n",
    "                   'Food': ['Steak', 'Lamb', 'Mango', 'Apple', 'Cheese',\n",
    "                            'Melon', 'Beans'],\n",
    "                   'Height': [165, 170, 120, 80, 180, 172, 150],\n",
    "                   'Score': [4.6, 8.3, 9.0, 3.3, 1.8, 9.5, 2.2],\n",
    "                   'State': ['NY', 'TX', 'FL', 'AL', 'AK', 'TX', 'TX']\n",
    "                   },\n",
    "                  index=['Jane', 'Nick', 'Aaron', 'Penelope', 'Dean',\n",
    "                         'Christina', 'John'])\n",
    "print(df)\n",
    "\n",
    "df.loc['Jane']\n",
    "df.loc['Jane','Color']\n",
    "df.loc[['Nick','Dean'], ['Score']]"
   ]
  },
  {
   "cell_type": "markdown",
   "metadata": {},
   "source": [
    "# 7) Crie três conjuntos de dados para representar uma relação N:M (Médico, Paciente e Consulta). A partir dos conjuntos realize a integração (merge)."
   ]
  },
  {
   "cell_type": "code",
   "execution_count": 67,
   "metadata": {},
   "outputs": [
    {
     "name": "stdout",
     "output_type": "stream",
     "text": [
      "     CRM Estado\n",
      "001   15     SC\n",
      "002   32     SC\n",
      "003    5     PR\n",
      "     Cod_Paciente      Nome Endereco\n",
      "001             1   Joao da       SC\n",
      "002             2  Joaquina       SC\n",
      "003             3   Arnaldo       PR\n",
      "    CRM cod_paciente\n",
      "001  15            1\n",
      "002   5            2\n",
      "003  32            3\n"
     ]
    },
    {
     "data": {
      "text/html": [
       "<div>\n",
       "<style scoped>\n",
       "    .dataframe tbody tr th:only-of-type {\n",
       "        vertical-align: middle;\n",
       "    }\n",
       "\n",
       "    .dataframe tbody tr th {\n",
       "        vertical-align: top;\n",
       "    }\n",
       "\n",
       "    .dataframe thead th {\n",
       "        text-align: right;\n",
       "    }\n",
       "</style>\n",
       "<table border=\"1\" class=\"dataframe\">\n",
       "  <thead>\n",
       "    <tr style=\"text-align: right;\">\n",
       "      <th></th>\n",
       "      <th>Cod_Paciente</th>\n",
       "      <th>Nome</th>\n",
       "      <th>Endereco</th>\n",
       "      <th>CRM</th>\n",
       "      <th>cod_paciente</th>\n",
       "    </tr>\n",
       "  </thead>\n",
       "  <tbody>\n",
       "    <tr>\n",
       "      <th>001</th>\n",
       "      <td>1</td>\n",
       "      <td>Joao da</td>\n",
       "      <td>SC</td>\n",
       "      <td>15</td>\n",
       "      <td>1</td>\n",
       "    </tr>\n",
       "    <tr>\n",
       "      <th>002</th>\n",
       "      <td>2</td>\n",
       "      <td>Joaquina</td>\n",
       "      <td>SC</td>\n",
       "      <td>5</td>\n",
       "      <td>2</td>\n",
       "    </tr>\n",
       "    <tr>\n",
       "      <th>003</th>\n",
       "      <td>3</td>\n",
       "      <td>Arnaldo</td>\n",
       "      <td>PR</td>\n",
       "      <td>32</td>\n",
       "      <td>3</td>\n",
       "    </tr>\n",
       "  </tbody>\n",
       "</table>\n",
       "</div>"
      ],
      "text/plain": [
       "     Cod_Paciente      Nome Endereco CRM cod_paciente\n",
       "001             1   Joao da       SC  15            1\n",
       "002             2  Joaquina       SC   5            2\n",
       "003             3   Arnaldo       PR  32            3"
      ]
     },
     "execution_count": 67,
     "metadata": {},
     "output_type": "execute_result"
    }
   ],
   "source": [
    "import functools as ft\n",
    "medico = pd.DataFrame([[15, 'SC'], [32, 'SC'], [5, 'PR']],\n",
    "                     index=['001', '002', '003'],\n",
    "                     columns=['CRM', 'Estado'])\n",
    "print(medico)\n",
    "paciente = pd.DataFrame([[ 1,'Joao da', 'SC'], [2,'Joaquina', 'SC'], [3,'Arnaldo', 'PR']],\n",
    "                     index=['001', '002', '003'],\n",
    "                     columns=['Cod_Paciente','Nome', 'Endereco'])\n",
    "print(paciente)\n",
    "consulta = pd.DataFrame([['15', '1'], ['5', '2'], ['32', '3']],\n",
    "                     index=['001', '002', '003'],\n",
    "                     columns=['CRM', 'cod_paciente'])\n",
    "print(consulta)\n",
    "pd.merge(medico, consulta, how='inner', left_index=True, right_index=True)\n",
    "pd.merge(paciente, consulta, how='inner', left_index=True, right_index=True)"
   ]
  },
  {
   "cell_type": "code",
   "execution_count": null,
   "metadata": {},
   "outputs": [],
   "source": []
  }
 ],
 "metadata": {
  "kernelspec": {
   "display_name": "Python 3 (ipykernel)",
   "language": "python",
   "name": "python3"
  },
  "language_info": {
   "codemirror_mode": {
    "name": "ipython",
    "version": 3
   },
   "file_extension": ".py",
   "mimetype": "text/x-python",
   "name": "python",
   "nbconvert_exporter": "python",
   "pygments_lexer": "ipython3",
   "version": "3.11.4"
  },
  "vscode": {
   "interpreter": {
    "hash": "ea6272f363b121ac906328f9784414c4ff46af3cd325e9810fe97e6b132ab5cd"
   }
  }
 },
 "nbformat": 4,
 "nbformat_minor": 2
}
