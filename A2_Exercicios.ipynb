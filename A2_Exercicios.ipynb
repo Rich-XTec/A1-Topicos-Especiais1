{
 "cells": [
  {
   "cell_type": "code",
   "execution_count": 13,
   "id": "83ced7cf",
   "metadata": {
    "scrolled": true
   },
   "outputs": [
    {
     "name": "stdout",
     "output_type": "stream",
     "text": [
      "         race         state   modeldate          candidate_name  candidate_id  \\\n",
      "0       1980D    California  1979-10-23            Jimmy Carter           467   \n",
      "1       1980D   Connecticut  1979-10-23            Jimmy Carter           467   \n",
      "2       1980D       Florida  1979-10-23            Jimmy Carter           467   \n",
      "3       1980D       Georgia  1979-10-23            Jimmy Carter           467   \n",
      "4       1980D          Iowa  1979-10-23            Jimmy Carter           467   \n",
      "...       ...           ...         ...                     ...           ...   \n",
      "301690  2016D       Montana  2016-06-07  Hillary Rodham Clinton          9207   \n",
      "301691  2016D      National  2016-06-07  Hillary Rodham Clinton          9207   \n",
      "301692  2016D    New Jersey  2016-06-07  Hillary Rodham Clinton          9207   \n",
      "301693  2016D    New Mexico  2016-06-07  Hillary Rodham Clinton          9207   \n",
      "301694  2016D  South Dakota  2016-06-07  Hillary Rodham Clinton          9207   \n",
      "\n",
      "        pct_estimate  pct_trend_adjusted       timestamp       comment  \\\n",
      "0           21.80135            22.59785  12/10/19 16:26  one day test   \n",
      "1           24.00000            29.39666  12/10/19 16:26  one day test   \n",
      "2           46.82137            46.18658  12/10/19 16:26  one day test   \n",
      "3           57.22388            57.02980  12/10/19 16:26  one day test   \n",
      "4           21.83582            23.07114  12/10/19 16:26  one day test   \n",
      "...              ...                 ...             ...           ...   \n",
      "301690      55.00000            51.77274  12/10/19 16:07  one day test   \n",
      "301691      52.48301                 NaN  12/10/19 16:07  one day test   \n",
      "301692      59.37868            59.69436  12/10/19 16:07  one day test   \n",
      "301693      53.30000            53.57730  12/10/19 16:07  one day test   \n",
      "301694      50.00000            50.32890  12/10/19 16:07  one day test   \n",
      "\n",
      "       contestdate  \n",
      "0       1980-06-03  \n",
      "1       1980-03-25  \n",
      "2       1980-03-11  \n",
      "3       1980-03-11  \n",
      "4       1980-01-21  \n",
      "...            ...  \n",
      "301690  2016-06-07  \n",
      "301691         NaN  \n",
      "301692  2016-06-07  \n",
      "301693  2016-06-07  \n",
      "301694  2016-06-07  \n",
      "\n",
      "[301695 rows x 10 columns]\n"
     ]
    }
   ],
   "source": [
    "#Exercicio 9\n",
    "import pandas as pd\n",
    "df = pd.read_csv(\"pres_primary_avgs_1980-2016.csv\")\n",
    "#print(df)\n",
    "df.sort_values(by='pct_estimate', ascending=False)\n",
    "print(df)"
   ]
  },
  {
   "cell_type": "code",
   "execution_count": 14,
   "id": "2d145d61",
   "metadata": {},
   "outputs": [
    {
     "name": "stdout",
     "output_type": "stream",
     "text": [
      "Counter({'de': 17, 'e': 7, 'dados': 6, 'o': 4, 'para': 3, 'a': 3, 'Ciência': 2, 'data': 2, 'é': 2, 'análise': 2, 'ou': 2, 'que': 2, 'insights': 2, 'tomadas': 2, 'machine': 2, 'áreas': 2, 'como': 2, 'como:': 2, 'A': 2, 'ciência': 2, 'em': 2, '(em': 1, 'inglês:': 1, 'science': 1, ')': 1, 'uma': 1, 'área': 1, 'interdisciplinar': 1, 'voltada': 1, 'estudo': 1, 'dados,': 1, 'estruturados': 1, 'não,': 1, 'visa': 1, 'extração': 1, 'conhecimento': 1, 'possíveis': 1, 'decisão,': 1, 'maneira': 1, 'similar': 1, 'à': 1, 'mineração': 1, 'dados.': 1, 'alia': 1, 'big': 1, 'learning,': 1, 'além': 1, 'técnicas': 1, 'outras': 1, 'interdisciplinares': 1, 'estatística,': 1, 'economia,': 1, 'engenharia': 1, 'outros': 1, 'subcampos': 1, 'da': 1, 'computação': 1, 'banco': 1, 'agrupamentos': 1, '(cluster': 1, 'analysis).': 1, 'um': 1, 'campo': 1, 'já': 1, 'existe': 1, 'há': 1, '30': 1, 'anos,': 1, 'porém': 1, 'ganhou': 1, 'mais': 1, 'destaque': 1, 'nos': 1, 'últimos': 1, 'anos': 1, 'devido': 1, 'alguns': 1, 'fatores': 1, 'surgimento': 1, 'popularização': 1, 'do': 1, 'Big': 1, 'Data': 1, 'desenvolvimento': 1, 'learning.': 1, 'pode,': 1, 'por': 1, 'exemplo,': 1, 'transformar': 1, 'essa': 1, 'grande': 1, 'quantidade': 1, 'brutos': 1, 'negócios,': 1, 'com': 1, 'isso,': 1, 'auxiliar': 1, 'empresas': 1, 'decisões': 1, 'atingir': 1, 'melhores': 1, 'resultados.': 1, 'Fonte:': 1, 'https://pt.wikipedia.org/wiki/Ci%C3%AAncia_de_dados': 1})\n"
     ]
    }
   ],
   "source": [
    "#Exercicio 10\n",
    "import pandas\n",
    "import numpy as np\n",
    "from collections import Counter\n",
    "text = open('ciência_de_dados.txt').read().split()\n",
    "C = Counter(text)\n",
    "print(C)\n",
    "df = pandas.DataFrame(text)\n",
    "np.savetxt('./np.txt', df.values, fmt='%s')\n",
    "df.to_csv('./pandas.txt', header=None, index=None, sep=' ', mode='a')"
   ]
  },
  {
   "cell_type": "code",
   "execution_count": 52,
   "id": "dadcd651",
   "metadata": {},
   "outputs": [
    {
     "name": "stdout",
     "output_type": "stream",
     "text": [
      "   Nome rat  evento_df1 sim/nao     cat  evento_df2 resp\n",
      "0  Joao   A           1     sim  (A, B)           1  nao\n"
     ]
    }
   ],
   "source": [
    "#Exercicio 11\n",
    "import pandas as pd\n",
    "\n",
    "df1 = pd.DataFrame({\n",
    "    'Nome': ['Joao'],\n",
    "    'rat': ['A'],\n",
    "    'evento': [1],\n",
    "    'sim/nao': ['sim']\n",
    "   })\n",
    "\n",
    "df2 = pd.DataFrame({\n",
    "    'cat': [('A', 'B')],\n",
    "    'evento': [1],\n",
    "    'resp': ['nao']\n",
    "   })\n",
    "#junta tuas tabelas\n",
    "df = df1.join(df2, lsuffix='_df1', rsuffix='_df2')\n",
    "df.to_csv('./df.csv', index=None, sep=',', mode='a')\n",
    "print(df)"
   ]
  },
  {
   "cell_type": "code",
   "execution_count": 53,
   "id": "f0a632be",
   "metadata": {
    "scrolled": false
   },
   "outputs": [
    {
     "name": "stdout",
     "output_type": "stream",
     "text": [
      "   Nome resp\n",
      "0  Joao  nao\n"
     ]
    }
   ],
   "source": [
    "#Exercicio 12\n",
    "import pandas as pd\n",
    "df = pd.read_csv(\"df.csv\", usecols=[\"Nome\", \"resp\"])\n",
    "print(df)"
   ]
  },
  {
   "cell_type": "code",
   "execution_count": 69,
   "id": "eb9ffd4e",
   "metadata": {},
   "outputs": [
    {
     "name": "stdout",
     "output_type": "stream",
     "text": [
      "<_io.TextIOWrapper name='df.csv' mode='a' encoding='cp1252'>\n",
      "<_io.TextIOWrapper name='out_df.csv' mode='w' encoding='cp1252'>\n",
      "<_io.TextIOWrapper name='out_df.csv' mode='w' encoding='cp1252'>\n",
      "<_io.TextIOWrapper name='out_df.csv' mode='w' encoding='cp1252'>\n",
      "<_io.TextIOWrapper name='out_df.csv' mode='w' encoding='cp1252'>\n",
      "<_io.TextIOWrapper name='out_df.csv' mode='w' encoding='cp1252'>\n",
      "<_io.TextIOWrapper name='out_df.csv' mode='w' encoding='cp1252'>\n"
     ]
    }
   ],
   "source": [
    "#Exercicio 13\n",
    "import pandas as pd\n",
    "import csv\n",
    "\n",
    "newRow = \"%s,%s,%i,%s,%s,%i,%s\\n\" % ('Marcia', 'BA', 0 , 'sim', 'XX', 0, 'nao')\n",
    "with open(\"df.csv\", \"a\") as f:\n",
    "    f.write(newRow)\n",
    "print(f)\n",
    "\n",
    "with open('df.csv', 'r') as inp, open('out_df.csv', 'w') as out:\n",
    "    writer = csv.writer(out)\n",
    "    for row in csv.reader(inp):\n",
    "        if row[2] != \"0\":\n",
    "            writer.writerow(row)\n",
    "            print(out)"
   ]
  },
  {
   "cell_type": "code",
   "execution_count": 70,
   "id": "e95e9d32",
   "metadata": {},
   "outputs": [
    {
     "ename": "ModuleNotFoundError",
     "evalue": "No module named 'pymongo'",
     "output_type": "error",
     "traceback": [
      "\u001b[1;31m---------------------------------------------------------------------------\u001b[0m",
      "\u001b[1;31mModuleNotFoundError\u001b[0m                       Traceback (most recent call last)",
      "Cell \u001b[1;32mIn[70], line 2\u001b[0m\n\u001b[0;32m      1\u001b[0m \u001b[38;5;66;03m#Exercicio 14\u001b[39;00m\n\u001b[1;32m----> 2\u001b[0m \u001b[38;5;28;01mimport\u001b[39;00m \u001b[38;5;21;01mpymongo\u001b[39;00m\n\u001b[0;32m      4\u001b[0m myclient \u001b[38;5;241m=\u001b[39m pymongo\u001b[38;5;241m.\u001b[39mMongoClient(\u001b[38;5;124m\"\u001b[39m\u001b[38;5;124mmongodb://localhost:27017/\u001b[39m\u001b[38;5;124m\"\u001b[39m)\n\u001b[0;32m      5\u001b[0m mydb \u001b[38;5;241m=\u001b[39m myclient[\u001b[38;5;124m\"\u001b[39m\u001b[38;5;124mmydatabase\u001b[39m\u001b[38;5;124m\"\u001b[39m]\n",
      "\u001b[1;31mModuleNotFoundError\u001b[0m: No module named 'pymongo'"
     ]
    }
   ],
   "source": [
    "#Exercicio 14\n",
    "import pymongo\n",
    "\n",
    "myclient = pymongo.MongoClient(\"mongodb://localhost:27017/\")\n",
    "mydb = myclient[\"mydatabase\"]\n",
    "mycol = mydb[\"customers\"]\n",
    "\n",
    "myquery = { \"address\": \"Valley 345\" }\n",
    "newvalues = { \"$set\": { \"address\": \"Canyon 123\" } }\n",
    "\n",
    "mycol.update_one(myquery, newvalues)\n",
    "\n",
    "for x in mycol.find():\n",
    "  print(x)"
   ]
  },
  {
   "cell_type": "code",
   "execution_count": null,
   "id": "affadbc3",
   "metadata": {},
   "outputs": [],
   "source": [
    "#Exercicio 15\n",
    "import pymongo\n",
    "\n",
    "myclient = pymongo.MongoClient(\"mongodb://localhost:27017/\")\n",
    "mydb = myclient[\"mydatabase\"]\n",
    "mycol = mydb[\"customers\"]\n",
    "\n",
    "myquery = { \"address\": \"Mountain 21\" }\n",
    "\n",
    "mycol.delete_one(myquery)"
   ]
  },
  {
   "cell_type": "code",
   "execution_count": 10,
   "id": "f9308809",
   "metadata": {
    "scrolled": true
   },
   "outputs": [
    {
     "ename": "AttributeError",
     "evalue": "'function' object has no attribute 'header'",
     "output_type": "error",
     "traceback": [
      "\u001b[1;31m---------------------------------------------------------------------------\u001b[0m",
      "\u001b[1;31mAttributeError\u001b[0m                            Traceback (most recent call last)",
      "Cell \u001b[1;32mIn[10], line 4\u001b[0m\n\u001b[0;32m      1\u001b[0m \u001b[38;5;66;03m#Exercicio 16\u001b[39;00m\n\u001b[0;32m      2\u001b[0m \u001b[38;5;28;01mimport\u001b[39;00m \u001b[38;5;21;01mjson\u001b[39;00m\n\u001b[1;32m----> 4\u001b[0m f \u001b[38;5;241m=\u001b[39m \u001b[38;5;28mopen\u001b[39m\u001b[38;5;241m.\u001b[39mheader((\u001b[38;5;124m'\u001b[39m\u001b[38;5;124m2015_USPTOf.json\u001b[39m\u001b[38;5;124m'\u001b[39m))\n\u001b[0;32m      6\u001b[0m \u001b[38;5;66;03m# returns JSON object as\u001b[39;00m\n\u001b[0;32m      7\u001b[0m \u001b[38;5;66;03m# a dictionary\u001b[39;00m\n\u001b[0;32m      8\u001b[0m data \u001b[38;5;241m=\u001b[39m json\u001b[38;5;241m.\u001b[39mload(f)\n",
      "\u001b[1;31mAttributeError\u001b[0m: 'function' object has no attribute 'header'"
     ]
    }
   ],
   "source": [
    "#Exercicio 16\n",
    "import json\n",
    "\n",
    "f = open('2015_USPTOf.json')\n",
    " \n",
    "# returns JSON object as\n",
    "# a dictionary\n",
    "data = json.load(f)\n",
    "\n",
    "# for ele in enumerate(data):\n",
    "#     print (ele)\n",
    "\n",
    "enum = enumerate(data)\n",
    " \n",
    "next_element = next(enum)\n",
    "print(f\"Next Element: {next_element}\")"
   ]
  },
  {
   "cell_type": "code",
   "execution_count": null,
   "id": "024801f0",
   "metadata": {},
   "outputs": [],
   "source": []
  }
 ],
 "metadata": {
  "kernelspec": {
   "display_name": "Python 3 (ipykernel)",
   "language": "python",
   "name": "python3"
  },
  "language_info": {
   "codemirror_mode": {
    "name": "ipython",
    "version": 3
   },
   "file_extension": ".py",
   "mimetype": "text/x-python",
   "name": "python",
   "nbconvert_exporter": "python",
   "pygments_lexer": "ipython3",
   "version": "3.11.4"
  }
 },
 "nbformat": 4,
 "nbformat_minor": 5
}
